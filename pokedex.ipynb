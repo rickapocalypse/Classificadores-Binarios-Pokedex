{
 "cells": [
  {
   "attachments": {},
   "cell_type": "markdown",
   "metadata": {},
   "source": [
    "Bibliotecas Utilizadas no Código"
   ]
  },
  {
   "cell_type": "code",
   "execution_count": 68,
   "metadata": {},
   "outputs": [],
   "source": [
    "import pandas as pd\n",
    "from sklearn.preprocessing import StandardScaler\n",
    "from sklearn.model_selection import train_test_split, GridSearchCV, KFold\n",
    "from sklearn.tree import DecisionTreeClassifier\n",
    "from sklearn.linear_model import LogisticRegression\n",
    "from sklearn.svm import SVC\n",
    "from sklearn.ensemble import RandomForestClassifier\n",
    "from sklearn.metrics import accuracy_score"
   ]
  },
  {
   "attachments": {},
   "cell_type": "markdown",
   "metadata": {},
   "source": [
    "Importação do Dataset"
   ]
  },
  {
   "cell_type": "code",
   "execution_count": 69,
   "metadata": {},
   "outputs": [],
   "source": [
    "ds = pd.read_csv('pokemon.csv')"
   ]
  },
  {
   "attachments": {},
   "cell_type": "markdown",
   "metadata": {},
   "source": [
    "Filtrando apenas os itens que type1 == \"water\" ou type1 == \"normal\""
   ]
  },
  {
   "cell_type": "code",
   "execution_count": 70,
   "metadata": {},
   "outputs": [],
   "source": [
    "ds = ds[ds['type1'].isin(['water', 'normal'])]"
   ]
  },
  {
   "attachments": {},
   "cell_type": "markdown",
   "metadata": {},
   "source": [
    "Separação dos Parâmetros e transformando em matriz com uma coluna para o algoritmo de learn, e as Classes. Logo em seguida separamos o dataset em um conjunto para treinamento e outro para testes, para o final. Utilizei um seed em random_state para conseguir reproduzir e avaliar os resultados, igual ao EP1."
   ]
  },
  {
   "cell_type": "code",
   "execution_count": 71,
   "metadata": {},
   "outputs": [],
   "source": [
    "X = ds[['against_electric', 'base_total']]\n",
    "y = ds['type1']\n",
    "X_train, X_test, y_train, y_test = train_test_split(\n",
    "    X, y, test_size=0.2, random_state=42)"
   ]
  },
  {
   "attachments": {},
   "cell_type": "markdown",
   "metadata": {},
   "source": [
    "Normalizando os valores"
   ]
  },
  {
   "cell_type": "code",
   "execution_count": 72,
   "metadata": {},
   "outputs": [],
   "source": [
    "scaler = StandardScaler()\n",
    "X_train = scaler.fit_transform(X_train)\n",
    "X_test = scaler.transform(X_test)"
   ]
  },
  {
   "attachments": {},
   "cell_type": "markdown",
   "metadata": {},
   "source": [
    "Declarando Classificadores"
   ]
  },
  {
   "cell_type": "code",
   "execution_count": 73,
   "metadata": {},
   "outputs": [],
   "source": [
    "tree_classifier = DecisionTreeClassifier()\n",
    "logistic_classifier = LogisticRegression()\n",
    "svm_classifier = SVC()\n",
    "forest_classifier = RandomForestClassifier()\n",
    "kfolds = KFold(n_splits=5, shuffle=True, random_state=42)\n"
   ]
  },
  {
   "attachments": {},
   "cell_type": "markdown",
   "metadata": {},
   "source": [
    "Procurando os melhores hiperparâmetros para os Classificadores Acima"
   ]
  },
  {
   "attachments": {},
   "cell_type": "markdown",
   "metadata": {},
   "source": [
    "Parâmetros do Dicision Tree"
   ]
  },
  {
   "cell_type": "code",
   "execution_count": 74,
   "metadata": {},
   "outputs": [
    {
     "name": "stdout",
     "output_type": "stream",
     "text": [
      "{'max_depth': 4, 'min_samples_leaf': 4}\n"
     ]
    }
   ],
   "source": [
    "tree_parameters = {\"max_depth\": [None, 1, 2, 4, 6, 8, 10], \"min_samples_leaf\": [1,4,10]}\n",
    "\n",
    "grid_search = GridSearchCV(tree_classifier, tree_parameters, cv=kfolds)\n",
    "\n",
    "grid_search.fit(X_train, y_train)\n",
    "\n",
    "best_parameters_tree = grid_search.best_params_\n",
    "\n",
    "print(best_parameters_tree)"
   ]
  },
  {
   "attachments": {},
   "cell_type": "markdown",
   "metadata": {},
   "source": [
    "Parâmetros do SVM"
   ]
  },
  {
   "cell_type": "code",
   "execution_count": 75,
   "metadata": {},
   "outputs": [
    {
     "name": "stdout",
     "output_type": "stream",
     "text": [
      "{'C': 1, 'degree': 1, 'kernel': 'rbf'}\n"
     ]
    }
   ],
   "source": [
    "svm_parameters = {'kernel': ['linear', 'rbf', 'poly'], 'C': [0.1, 1, 4], \"degree\": [1,3,10]}\n",
    "\n",
    "grid_search = GridSearchCV(svm_classifier, svm_parameters, cv=kfolds)\n",
    "\n",
    "grid_search.fit(X_train, y_train)\n",
    "\n",
    "best_parameters_svm = grid_search.best_params_\n",
    "\n",
    "print(best_parameters_svm)"
   ]
  },
  {
   "attachments": {},
   "cell_type": "markdown",
   "metadata": {},
   "source": [
    "Parâmetros do Logistic"
   ]
  },
  {
   "cell_type": "code",
   "execution_count": 76,
   "metadata": {},
   "outputs": [
    {
     "name": "stdout",
     "output_type": "stream",
     "text": [
      "{'C': 1}\n"
     ]
    }
   ],
   "source": [
    "logistic_parameters ={\n",
    "    'C': [ 0.001, 0.01, 0.1, 1, 10, 100]\n",
    "}\n",
    "grid_search = GridSearchCV(logistic_classifier, logistic_parameters, cv=kfolds)\n",
    "\n",
    "grid_search.fit(X_train, y_train)\n",
    "\n",
    "best_parameters_logistic = grid_search.best_params_\n",
    "\n",
    "print(best_parameters_logistic)"
   ]
  },
  {
   "attachments": {},
   "cell_type": "markdown",
   "metadata": {},
   "source": [
    "Parâmetros do Random Forest"
   ]
  },
  {
   "cell_type": "code",
   "execution_count": 77,
   "metadata": {},
   "outputs": [
    {
     "name": "stdout",
     "output_type": "stream",
     "text": [
      "{'max_depth': 5, 'min_samples_leaf': 2, 'n_estimators': 100}\n"
     ]
    }
   ],
   "source": [
    "forest_parameters = {\n",
    "    'n_estimators': [100, 200, 300],\n",
    "    'max_depth': [None, 5, 10],\n",
    "    'min_samples_leaf': [1, 2, 4]\n",
    "}\n",
    "\n",
    "grid_search = GridSearchCV(forest_classifier, forest_parameters, cv=kfolds)\n",
    "\n",
    "grid_search.fit(X_train, y_train)\n",
    "\n",
    "best_parameters_forest = grid_search.best_params_\n",
    "\n",
    "print(best_parameters_forest)"
   ]
  },
  {
   "attachments": {},
   "cell_type": "markdown",
   "metadata": {},
   "source": [
    "Obtendo os Novos Classificadores com os Melhores Parâmetros "
   ]
  },
  {
   "cell_type": "code",
   "execution_count": 78,
   "metadata": {},
   "outputs": [],
   "source": [
    "tree_classifier = DecisionTreeClassifier(**best_parameters_tree)\n",
    "logistic_classifier = LogisticRegression(**best_parameters_logistic)\n",
    "svm_classifier = SVC(**best_parameters_svm)\n",
    "forest_classifier = RandomForestClassifier(**best_parameters_forest)"
   ]
  },
  {
   "attachments": {},
   "cell_type": "markdown",
   "metadata": {},
   "source": [
    "Treinamento do Modelo"
   ]
  },
  {
   "cell_type": "code",
   "execution_count": 79,
   "metadata": {},
   "outputs": [
    {
     "name": "stdout",
     "output_type": "stream",
     "text": [
      "A precisão do classificador Decision Tree é: 0.9090909090909091\n"
     ]
    }
   ],
   "source": [
    "tree_classifier.fit(X_train, y_train)\n",
    "\n",
    "y_pred = tree_classifier.predict(X_test)\n",
    "\n",
    "tree_accuracy = accuracy_score(y_test, y_pred)\n",
    "\n",
    "print(f\"A precisão do classificador Decision Tree é: {tree_accuracy}\")\n"
   ]
  },
  {
   "cell_type": "code",
   "execution_count": 80,
   "metadata": {},
   "outputs": [
    {
     "name": "stdout",
     "output_type": "stream",
     "text": [
      "A precisão do classificador Logistic Regression é: 0.8181818181818182\n"
     ]
    }
   ],
   "source": [
    "logistic_classifier.fit(X_train, y_train)\n",
    "\n",
    "y_pred = logistic_classifier.predict(X_test)\n",
    "\n",
    "logistic_accuracy = accuracy_score(y_test, y_pred)\n",
    "\n",
    "print(f\"A precisão do classificador Logistic Regression é: {logistic_accuracy}\")"
   ]
  },
  {
   "cell_type": "code",
   "execution_count": 81,
   "metadata": {},
   "outputs": [
    {
     "name": "stdout",
     "output_type": "stream",
     "text": [
      "A precisão do classificador SVM é: 0.8636363636363636\n"
     ]
    }
   ],
   "source": [
    "svm_classifier.fit(X_train, y_train)\n",
    "\n",
    "y_pred = svm_classifier.predict(X_test)\n",
    "\n",
    "svm_accuracy = accuracy_score(y_test, y_pred)\n",
    "\n",
    "print(f\"A precisão do classificador SVM é: {svm_accuracy}\")"
   ]
  },
  {
   "cell_type": "code",
   "execution_count": 85,
   "metadata": {},
   "outputs": [
    {
     "name": "stdout",
     "output_type": "stream",
     "text": [
      "A precisão do classificador Random Forest é: 0.9318181818181818\n"
     ]
    }
   ],
   "source": [
    "forest_classifier.fit(X_train, y_train)\n",
    "\n",
    "y_pred = forest_classifier.predict(X_test)\n",
    "\n",
    "forest_accuracy = accuracy_score(y_test, y_pred)\n",
    "\n",
    "print(f\"A precisão do classificador Random Forest é: {forest_accuracy}\")"
   ]
  }
 ],
 "metadata": {
  "kernelspec": {
   "display_name": "Python 3",
   "language": "python",
   "name": "python3"
  },
  "language_info": {
   "codemirror_mode": {
    "name": "ipython",
    "version": 3
   },
   "file_extension": ".py",
   "mimetype": "text/x-python",
   "name": "python",
   "nbconvert_exporter": "python",
   "pygments_lexer": "ipython3",
   "version": "3.10.11"
  },
  "orig_nbformat": 4
 },
 "nbformat": 4,
 "nbformat_minor": 2
}
